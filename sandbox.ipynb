{
 "cells": [
  {
   "cell_type": "code",
   "execution_count": null,
   "metadata": {},
   "outputs": [
    {
     "name": "stderr",
     "output_type": "stream",
     "text": [
      "2025-03-07 09:17:45,636 - INFO - Configuration:\n",
      "dataset: cifar10\n",
      "project: data-loader\n",
      "root: ./data\n",
      "download: true\n",
      "batch_size: 32\n",
      "num_workers: 2\n",
      "seed: 42\n",
      "val_ratio: 0.1\n",
      "\n"
     ]
    },
    {
     "name": "stderr",
     "output_type": "stream",
     "text": [
      "2025-03-07 09:17:45,645 - INFO - CIFAR10 dataset found in ./data. Skipping download.\n",
      "2025-03-07 09:17:46,766 - INFO - Datasets loaded and split successfully:\n",
      "2025-03-07 09:17:46,767 - INFO - Training set size: 50000\n",
      "2025-03-07 09:17:46,768 - INFO - Validation set size: 5000\n",
      "2025-03-07 09:17:46,769 - INFO - Test set size: 10000\n"
     ]
    },
    {
     "ename": "NameError",
     "evalue": "name 'random' is not defined",
     "output_type": "error",
     "traceback": [
      "\u001b[0;31m---------------------------------------------------------------------------\u001b[0m",
      "\u001b[0;31mNameError\u001b[0m                                 Traceback (most recent call last)",
      "Cell \u001b[0;32mIn[9], line 26\u001b[0m\n\u001b[1;32m     24\u001b[0m \u001b[38;5;66;03m# Fetch a single image\u001b[39;00m\n\u001b[1;32m     25\u001b[0m images, _ \u001b[38;5;241m=\u001b[39m \u001b[38;5;28mnext\u001b[39m(\u001b[38;5;28miter\u001b[39m(train_loader))\n\u001b[0;32m---> 26\u001b[0m image \u001b[38;5;241m=\u001b[39m images[\u001b[43mrandom\u001b[49m\u001b[38;5;241m.\u001b[39mrandint(\u001b[38;5;241m0\u001b[39m, images\u001b[38;5;241m.\u001b[39msize(\u001b[38;5;241m0\u001b[39m))]  \u001b[38;5;66;03m# Shape: (C, W, H)\u001b[39;00m\n\u001b[1;32m     28\u001b[0m \u001b[38;5;66;03m# Show original image\u001b[39;00m\n\u001b[1;32m     29\u001b[0m plt\u001b[38;5;241m.\u001b[39mfigure(figsize\u001b[38;5;241m=\u001b[39m(\u001b[38;5;241m4\u001b[39m,\u001b[38;5;241m4\u001b[39m))\n",
      "\u001b[0;31mNameError\u001b[0m: name 'random' is not defined"
     ]
    }
   ],
   "source": [
    "import random\n",
    "import torch\n",
    "import matplotlib.pyplot as plt\n",
    "from data import load_and_split_data, Config\n",
    "from data_gen import generate_patch_shuffled_negatives\n",
    "from omegaconf import OmegaConf\n",
    "\n",
    "# Create OmegaConf config explicitly from dataclass\n",
    "cfg = OmegaConf.structured({\n",
    "    \"dataset\": \"cifar10\",\n",
    "    \"project\": \"data-loader\",\n",
    "    \"root\": \"./data\",\n",
    "    \"download\": True,\n",
    "    \"batch_size\": 32,\n",
    "    \"num_workers\": 2,\n",
    "    \"seed\": 42,\n",
    "    \"val_ratio\": 0.1\n",
    "})\n",
    "\n",
    "# Load dataset using your existing function\n",
    "train_loader, _, _ = load_and_split_data(cfg)\n",
    "\n",
    "# Fetch a single image\n",
    "images, _ = next(iter(train_loader))\n",
    "image = images[random.randint(0, images.size(0))]  # Shape: (C, W, H)\n",
    "\n",
    "# Show original image\n",
    "plt.figure(figsize=(4,4))\n",
    "plt.title(\"Original Image\")\n",
    "plt.imshow(image.permute(1,2,0))\n",
    "plt.axis('off')\n",
    "plt.show()\n",
    "\n",
    "# Apply patch_reorder (negative sample generation)\n",
    "k = 3  # example kernel size\n",
    "negative_image = generate_patch_shuffled_negatives(image.unsqueeze(0), k=k)[0]\n",
    "\n",
    "# Show perturbed (negative) image\n",
    "plt.figure(figsize=(4,4))\n",
    "plt.title(\"Patch Reordered Image\")\n",
    "plt.imshow(negative_image.permute(1,2,0))\n",
    "plt.show()\n"
   ]
  }
 ],
 "metadata": {
  "kernelspec": {
   "display_name": "Python 3 (ipykernel)",
   "language": "python",
   "name": "python3"
  },
  "language_info": {
   "codemirror_mode": {
    "name": "ipython",
    "version": 3
   },
   "file_extension": ".py",
   "mimetype": "text/x-python",
   "name": "python",
   "nbconvert_exporter": "python",
   "pygments_lexer": "ipython3",
   "version": "3.10.16"
  }
 },
 "nbformat": 4,
 "nbformat_minor": 2
}
